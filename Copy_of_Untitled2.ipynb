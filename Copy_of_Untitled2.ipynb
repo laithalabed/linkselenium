{
  "nbformat": 4,
  "nbformat_minor": 0,
  "metadata": {
    "colab": {
      "provenance": [],
      "authorship_tag": "ABX9TyP/YRfyXhIIrKdsbMxfi1dX",
      "include_colab_link": true
    },
    "kernelspec": {
      "name": "python3",
      "display_name": "Python 3"
    },
    "language_info": {
      "name": "python"
    }
  },
  "cells": [
    {
      "cell_type": "markdown",
      "metadata": {
        "id": "view-in-github",
        "colab_type": "text"
      },
      "source": [
        "<a href=\"https://colab.research.google.com/github/laithalabed/linkselenium/blob/main/Copy_of_Untitled2.ipynb\" target=\"_parent\"><img src=\"https://colab.research.google.com/assets/colab-badge.svg\" alt=\"Open In Colab\"/></a>"
      ]
    },
    {
      "cell_type": "code",
      "execution_count": null,
      "metadata": {
        "id": "_uXNgpAmbDel"
      },
      "outputs": [],
      "source": [
        "Name = input(\"laith\")\n",
        "id = input(\"656\")\n",
        "print(Name)\n",
        "print(\"656\")"
      ]
    },
    {
      "cell_type": "code",
      "source": [],
      "metadata": {
        "id": "SV87WIJLN594"
      },
      "execution_count": null,
      "outputs": []
    },
    {
      "cell_type": "code",
      "source": [
        "age = 18\n",
        "if age  >= 18:\n",
        "  print(\"you are an audit\")\n",
        "else:\n",
        "  print(\"you are an udit\")\n",
        "print(\"you are an udit\") ;\n"
      ],
      "metadata": {
        "id": "NEJUMOKb0upL"
      },
      "execution_count": null,
      "outputs": []
    },
    {
      "cell_type": "code",
      "source": [
        "for i in range(10):\n",
        "    word = input(f\"enter word {i+1}:\")\n",
        "    letter_count = len(word)\n",
        "    print(f\"the word {word} has {letter_count} letters\")\n",
        "print(f\"the word {word} has {letter_count} letters\")"
      ],
      "metadata": {
        "id": "9L96qv_E0wXy"
      },
      "execution_count": null,
      "outputs": []
    },
    {
      "cell_type": "code",
      "source": [
        "for i in range(5):\n",
        "    print(i)\n",
        "count=0\n",
        "while count < 5:\n",
        "for i in range(5):\n",
        "    print(i)\n",
        "count=0\n",
        "while count < 5:\n",
        "    print(count)\n",
        "    count += 1\n",
        "while count < 5:\n",
        "    print(count)\n",
        "    count += 1;\n"
      ],
      "metadata": {
        "id": "y--gDZkK09mO"
      },
      "execution_count": null,
      "outputs": []
    },
    {
      "cell_type": "code",
      "source": [
        "\n",
        "first_name = input(\"laith \")\n",
        "last_name = input(\"abed \")\n",
        "mobile_number = input(\"07*** \")\n",
        "happy = input(\" (yes/no) \")\n",
        "std = \"std\"\n",
        "psut = \"psut\"\n",
        "edu = \"edu\"\n",
        "jo = \"jo\"\n",
        "email = std + \"@\" + psut + \".\" + edu + \".\" + jo\n",
        "print(last_name)\n",
        "print(email)\n",
        "print( mobile_number)\n"
      ],
      "metadata": {
        "colab": {
          "base_uri": "https://localhost:8080/"
        },
        "collapsed": true,
        "id": "oszqEU4OcN-x",
        "outputId": "80adfddf-65f9-4df6-9b2a-2fa6083c250e"
      },
      "execution_count": null,
      "outputs": [
        {
          "output_type": "stream",
          "name": "stdout",
          "text": [
            "laith abed\n",
            "abed ss\n",
            "07*** 02255\n",
            " (yes/no): yes\n",
            "ss\n",
            "first name@last name.mobile number.happy\n",
            "02255\n"
          ]
        }
      ]
    },
    {
      "cell_type": "code",
      "source": [
        "import math\n",
        "from math import sqrt\n",
        "x = float(input(\"x\"))\n",
        "y = float(input(\"y\"))\n",
        "z = float(input(\"z\"))\n",
        "\n",
        "result = (x ** 3) + (y ** 2) * sqrt(z) / ( sqrt(x) + sqrt(y) )\n",
        "print(result)\n",
        "print(type(result))\n"
      ],
      "metadata": {
        "colab": {
          "base_uri": "https://localhost:8080/"
        },
        "id": "opZjh4y5qEmL",
        "outputId": "fd2c4677-51b6-4624-faf9-7702117197aa"
      },
      "execution_count": null,
      "outputs": [
        {
          "output_type": "stream",
          "name": "stdout",
          "text": [
            "x2.1\n",
            "y3.0\n",
            "z5.0\n",
            "15.58712997003487\n",
            "<class 'float'>\n"
          ]
        }
      ]
    }
  ]
}